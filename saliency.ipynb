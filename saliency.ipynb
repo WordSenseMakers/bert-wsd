{
 "cells": [
  {
   "cell_type": "code",
   "execution_count": 6,
   "metadata": {
    "id": "30l9ZyTjxJjf",
    "scrolled": true
   },
   "outputs": [],
   "source": [
    "import datagen # prevent circular module import exception\n",
    "from transformers import AutoTokenizer, AutoConfig, Trainer\n",
    "from modelling.collator import BetterDataCollatorForWholeWordMask\n",
    "from modelling.model import SynsetClassificationModel\n",
    "from modelling.trainer import BetterTrainer\n",
    "from lit_nlp.api.dataset import Dataset\n",
    "from lit_nlp.api.model import Model\n",
    "\n",
    "def load_model(path: str):\n",
    "    tokenizer = AutoTokenizer.from_pretrained(path, local_files_only=True)\n",
    "\n",
    "    model = SynsetClassificationModel.from_pretrained(\n",
    "        model_name,\n",
    "        config=AutoConfig.from_pretrained(path, local_files_only=True),\n",
    "        local_files_only=True,\n",
    "        model_name=base_model_name,\n",
    "        num_classes=2584,\n",
    "    ).to(device)\n",
    "    \n",
    "    trainer = BetterTrainer(\n",
    "        model=model,\n",
    "        data_collator=DataCollatorForLanguageModeling(tokenizer),\n",
    "        args=TrainingArguments(\n",
    "            remove_unused_columns=False,\n",
    "            label_names=[\"labels\", \"sense-labels\"]\n",
    "        )\n",
    "    )\n",
    "    \n",
    "    return trainer\n",
    "\n",
    "class LIT_Dataset(Dataset):\n",
    "    pass\n",
    "\n",
    "class LIT_Model(Model):\n",
    "    def __init__(self, path: str):\n",
    "        self._model = load_model(path)\n",
    "        \n",
    "    def predict(self, inputs):\n",
    "        return self._model.predict(inputs)"
   ]
  },
  {
   "cell_type": "code",
   "execution_count": null,
   "metadata": {
    "id": "AWhbAZg57RpB"
   },
   "outputs": [],
   "source": [
    "# Create the LIT widget with the model and dataset to analyze.\n",
    "from lit_nlp import notebook\n",
    "from lit_nlp.examples.datasets import glue\n",
    "from lit_nlp.examples.models import glue_models\n",
    "\n",
    "datasets = {'sst_dev': glue.SST2Data('validation')}\n",
    "models = {'sst_tiny': glue_models.SST2Model('./')}\n",
    "\n",
    "widget = notebook.LitWidget(models, datasets, height=800)"
   ]
  },
  {
   "cell_type": "code",
   "execution_count": null,
   "metadata": {
    "id": "9GSfs1waBdLd"
   },
   "outputs": [],
   "source": [
    "# Render the widget\n",
    "widget.render()"
   ]
  }
 ],
 "metadata": {
  "colab": {
   "collapsed_sections": [],
   "name": "LIT in Notebooks",
   "provenance": []
  },
  "kernelspec": {
   "display_name": "Python 3 (ipykernel)",
   "language": "python",
   "name": "python3"
  },
  "language_info": {
   "codemirror_mode": {
    "name": "ipython",
    "version": 3
   },
   "file_extension": ".py",
   "mimetype": "text/x-python",
   "name": "python",
   "nbconvert_exporter": "python",
   "pygments_lexer": "ipython3",
   "version": "3.8.10"
  }
 },
 "nbformat": 4,
 "nbformat_minor": 1
}
