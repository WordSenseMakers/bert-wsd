{
 "cells": [
  {
   "cell_type": "code",
   "execution_count": 2,
   "metadata": {
    "id": "30l9ZyTjxJjf",
    "scrolled": true
   },
   "outputs": [],
   "source": [
    "import torch\n",
    "import datagen # prevent circular module import exception\n",
    "from transformers import AutoTokenizer, AutoConfig, Trainer, TrainingArguments, DataCollatorForLanguageModeling\n",
    "from modelling.collator import BetterDataCollatorForWholeWordMask\n",
    "from modelling.model import SynsetClassificationModel\n",
    "from modelling.trainer import BetterTrainer\n",
    "from lit_nlp.api.dataset import Dataset\n",
    "from lit_nlp.api.model import Model"
   ]
  },
  {
   "cell_type": "code",
   "execution_count": null,
   "metadata": {},
   "outputs": [],
   "source": [
    "def load_dataset(path: str):\n",
    "    pass"
   ]
  },
  {
   "cell_type": "code",
   "execution_count": 3,
   "metadata": {},
   "outputs": [],
   "source": [
    "def load_model(path: str):\n",
    "    if torch.cuda.is_available():\n",
    "        device = \"cuda:0\"\n",
    "        print(f\"CUDA found; running on {device}\")\n",
    "    else:\n",
    "        device = \"cpu\"\n",
    "        print(f\"CUDA not found; running on {device}\")\n",
    "    \n",
    "    tokenizer = AutoTokenizer.from_pretrained(path, local_files_only=True)\n",
    "    \n",
    "    model = SynsetClassificationModel.from_pretrained(\n",
    "        path,\n",
    "        config=AutoConfig.from_pretrained(path, local_files_only=True),\n",
    "        local_files_only=True,\n",
    "        model_name=path,\n",
    "        num_classes=2584,\n",
    "    ).to(device)\n",
    "    \n",
    "    trainer = BetterTrainer(\n",
    "        model=model,\n",
    "        data_collator=DataCollatorForLanguageModeling(tokenizer),\n",
    "        args=TrainingArguments(\n",
    "            output_dir='./saliency',\n",
    "            remove_unused_columns=False,\n",
    "            label_names=[\"labels\", \"sense-labels\"]\n",
    "        )\n",
    "    )\n",
    "    \n",
    "    return trainer"
   ]
  },
  {
   "cell_type": "markdown",
   "metadata": {},
   "source": [
    "Refer to https://pair-code.github.io/lit/setup/ for implementation details"
   ]
  },
  {
   "cell_type": "code",
   "execution_count": 6,
   "metadata": {},
   "outputs": [],
   "source": [
    "class LIT_Dataset(Dataset):\n",
    "    def __init__(self, path: str):\n",
    "        pass\n",
    "    \n",
    "    def spec(self):\n",
    "        return {\n",
    "            'key': type\n",
    "        }\n",
    "\n",
    "class LIT_Model(Model):\n",
    "    def __init__(self, path: str):\n",
    "        self._model = load_model(path)\n",
    "        \n",
    "    def input_spec(self):\n",
    "        return {\n",
    "            \"key\": type\n",
    "        }\n",
    "    \n",
    "    def output_spec(self):\n",
    "        return {\n",
    "            \"key\": type\n",
    "        }\n",
    "        \n",
    "    def predict(self, inputs):\n",
    "        return self._model.predict(inputs)\n",
    "    \n",
    "    def predict_minibatch(self, inputs):\n",
    "        return self._model.predict(inputs)"
   ]
  },
  {
   "cell_type": "code",
   "execution_count": 8,
   "metadata": {
    "id": "AWhbAZg57RpB"
   },
   "outputs": [
    {
     "name": "stderr",
     "output_type": "stream",
     "text": [
      "Didn't find file ./checkpoints-probing/roberta-probing+semcor/checkpoint-185900/added_tokens.json. We won't load it.\n",
      "loading file ./checkpoints-probing/roberta-probing+semcor/checkpoint-185900/vocab.json\n",
      "loading file ./checkpoints-probing/roberta-probing+semcor/checkpoint-185900/merges.txt\n",
      "loading file ./checkpoints-probing/roberta-probing+semcor/checkpoint-185900/tokenizer.json\n",
      "loading file None\n",
      "loading file ./checkpoints-probing/roberta-probing+semcor/checkpoint-185900/special_tokens_map.json\n",
      "loading file ./checkpoints-probing/roberta-probing+semcor/checkpoint-185900/tokenizer_config.json\n",
      "loading configuration file ./checkpoints-probing/roberta-probing+semcor/checkpoint-185900/config.json\n",
      "Model config RobertaConfig {\n",
      "  \"_name_or_path\": \"./checkpoints-probing/roberta-probing+semcor/checkpoint-185900\",\n",
      "  \"architectures\": [\n",
      "    \"SynsetClassificationModel\"\n",
      "  ],\n",
      "  \"attention_probs_dropout_prob\": 0.1,\n",
      "  \"bos_token_id\": 0,\n",
      "  \"classifier_dropout\": null,\n",
      "  \"eos_token_id\": 2,\n",
      "  \"hidden_act\": \"gelu\",\n",
      "  \"hidden_dropout_prob\": 0.1,\n",
      "  \"hidden_size\": 768,\n",
      "  \"initializer_range\": 0.02,\n",
      "  \"intermediate_size\": 3072,\n",
      "  \"layer_norm_eps\": 1e-05,\n",
      "  \"max_position_embeddings\": 514,\n",
      "  \"model_type\": \"roberta\",\n",
      "  \"num_attention_heads\": 12,\n",
      "  \"num_hidden_layers\": 12,\n",
      "  \"pad_token_id\": 1,\n",
      "  \"position_embedding_type\": \"absolute\",\n",
      "  \"torch_dtype\": \"float32\",\n",
      "  \"transformers_version\": \"4.17.0\",\n",
      "  \"type_vocab_size\": 1,\n",
      "  \"use_cache\": true,\n",
      "  \"vocab_size\": 50265\n",
      "}\n",
      "\n",
      "loading weights file ./checkpoints-probing/roberta-probing+semcor/checkpoint-185900/pytorch_model.bin\n"
     ]
    },
    {
     "name": "stdout",
     "output_type": "stream",
     "text": [
      "CUDA not found; running on cpu\n"
     ]
    },
    {
     "name": "stderr",
     "output_type": "stream",
     "text": [
      "loading configuration file ./checkpoints-probing/roberta-probing+semcor/checkpoint-185900/config.json\n",
      "Model config RobertaConfig {\n",
      "  \"_name_or_path\": \"./checkpoints-probing/roberta-probing+semcor/checkpoint-185900\",\n",
      "  \"architectures\": [\n",
      "    \"SynsetClassificationModel\"\n",
      "  ],\n",
      "  \"attention_probs_dropout_prob\": 0.1,\n",
      "  \"bos_token_id\": 0,\n",
      "  \"classifier_dropout\": null,\n",
      "  \"eos_token_id\": 2,\n",
      "  \"hidden_act\": \"gelu\",\n",
      "  \"hidden_dropout_prob\": 0.1,\n",
      "  \"hidden_size\": 768,\n",
      "  \"initializer_range\": 0.02,\n",
      "  \"intermediate_size\": 3072,\n",
      "  \"layer_norm_eps\": 1e-05,\n",
      "  \"max_position_embeddings\": 514,\n",
      "  \"model_type\": \"roberta\",\n",
      "  \"num_attention_heads\": 12,\n",
      "  \"num_hidden_layers\": 12,\n",
      "  \"pad_token_id\": 1,\n",
      "  \"position_embedding_type\": \"absolute\",\n",
      "  \"torch_dtype\": \"float32\",\n",
      "  \"transformers_version\": \"4.17.0\",\n",
      "  \"type_vocab_size\": 1,\n",
      "  \"use_cache\": true,\n",
      "  \"vocab_size\": 50265\n",
      "}\n",
      "\n",
      "loading weights file ./checkpoints-probing/roberta-probing+semcor/checkpoint-185900/pytorch_model.bin\n",
      "Some weights of the model checkpoint at ./checkpoints-probing/roberta-probing+semcor/checkpoint-185900 were not used when initializing RobertaModel: ['mlmodel.encoder.layer.6.attention.output.LayerNorm.bias', 'mlmodel.pooler.dense.weight', 'mlmodel.encoder.layer.1.attention.output.dense.weight', 'mlmodel.encoder.layer.0.intermediate.dense.bias', 'mlmodel.encoder.layer.6.output.LayerNorm.bias', 'mlmodel.encoder.layer.2.attention.self.key.bias', 'mlmodel.encoder.layer.7.attention.self.value.weight', 'mlmodel.encoder.layer.2.attention.output.dense.bias', 'mlmodel.encoder.layer.5.output.dense.bias', 'mlmodel.encoder.layer.4.attention.self.key.bias', 'mlmodel.encoder.layer.9.attention.self.value.weight', 'mlmodel.encoder.layer.9.output.LayerNorm.bias', 'mlmodel.encoder.layer.11.output.LayerNorm.weight', 'mlmodel.encoder.layer.0.attention.output.dense.bias', 'mlmodel.encoder.layer.4.attention.output.dense.bias', 'mlmodel.encoder.layer.4.attention.self.query.weight', 'mlmodel.encoder.layer.5.output.dense.weight', 'mlmodel.encoder.layer.1.intermediate.dense.weight', 'mlmodel.encoder.layer.7.attention.self.value.bias', 'mlmodel.encoder.layer.11.attention.output.dense.weight', 'mlmodel.encoder.layer.1.output.LayerNorm.bias', 'mlmodel.encoder.layer.7.attention.self.query.weight', 'mlmodel.encoder.layer.10.output.dense.bias', 'mlmodel.encoder.layer.0.output.dense.weight', 'mlmodel.encoder.layer.6.attention.self.query.weight', 'mlmodel.embeddings.position_embeddings.weight', 'mlmodel.encoder.layer.8.attention.self.key.weight', 'mlmodel.encoder.layer.11.attention.self.query.bias', 'mlmodel.encoder.layer.8.output.dense.bias', 'mlmodel.encoder.layer.8.output.LayerNorm.bias', 'mlmodel.encoder.layer.9.attention.output.LayerNorm.weight', 'mlmodel.encoder.layer.5.attention.self.value.bias', 'mlmodel.encoder.layer.6.attention.output.LayerNorm.weight', 'mlmodel.encoder.layer.10.attention.self.query.bias', 'mlmodel.encoder.layer.9.attention.output.LayerNorm.bias', 'mlmodel.encoder.layer.7.attention.self.key.bias', 'mlmodel.encoder.layer.11.attention.self.key.weight', 'mlmodel.encoder.layer.2.attention.output.LayerNorm.weight', 'mlmodel.encoder.layer.3.attention.self.key.weight', 'mlmodel.encoder.layer.5.attention.self.query.bias', 'mlmodel.encoder.layer.6.attention.self.key.bias', 'mlmodel.encoder.layer.11.intermediate.dense.weight', 'mlmodel.encoder.layer.5.output.LayerNorm.weight', 'mlmodel.encoder.layer.10.attention.self.query.weight', 'mlmodel.encoder.layer.11.attention.output.LayerNorm.bias', 'mlmodel.encoder.layer.5.attention.output.LayerNorm.weight', 'mlmodel.encoder.layer.9.attention.self.query.weight', 'mlmodel.encoder.layer.8.attention.output.LayerNorm.weight', 'mlmodel.encoder.layer.8.output.LayerNorm.weight', 'mlmodel.encoder.layer.4.intermediate.dense.bias', 'mlmodel.encoder.layer.4.attention.output.dense.weight', 'mlmodel.encoder.layer.0.attention.output.LayerNorm.weight', 'mlmodel.encoder.layer.5.intermediate.dense.weight', 'mlmodel.encoder.layer.3.attention.self.query.bias', 'mlmodel.encoder.layer.10.output.dense.weight', 'mlmodel.encoder.layer.10.attention.self.value.bias', 'mlmodel.encoder.layer.7.output.LayerNorm.weight', 'mlmodel.encoder.layer.1.attention.self.query.bias', 'mlmodel.encoder.layer.3.attention.output.LayerNorm.weight', 'mlmodel.encoder.layer.1.intermediate.dense.bias', 'mlmodel.encoder.layer.2.output.LayerNorm.bias', 'mlmodel.encoder.layer.3.output.dense.bias', 'mlmodel.encoder.layer.4.attention.self.value.bias', 'mlmodel.encoder.layer.9.output.dense.bias', 'mlmodel.encoder.layer.9.output.LayerNorm.weight', 'mlmodel.encoder.layer.8.attention.output.dense.bias', 'mlmodel.encoder.layer.2.output.dense.weight', 'mlmodel.encoder.layer.10.attention.self.value.weight', 'mlmodel.encoder.layer.11.attention.self.value.bias', 'mlmodel.embeddings.LayerNorm.weight', 'mlmodel.encoder.layer.7.attention.self.key.weight', 'mlmodel.encoder.layer.9.attention.self.key.weight', 'mlmodel.embeddings.word_embeddings.weight', 'mlmodel.encoder.layer.1.output.dense.bias', 'mlmodel.encoder.layer.6.attention.self.value.weight', 'mlmodel.encoder.layer.10.attention.output.LayerNorm.bias', 'mlmodel.encoder.layer.2.intermediate.dense.weight', 'mlmodel.encoder.layer.1.attention.output.dense.bias', 'mlmodel.encoder.layer.3.output.LayerNorm.bias', 'mlmodel.encoder.layer.9.attention.output.dense.bias', 'mlmodel.encoder.layer.0.attention.output.LayerNorm.bias', 'mlmodel.encoder.layer.2.intermediate.dense.bias', 'mlmodel.encoder.layer.6.intermediate.dense.weight', 'mlmodel.encoder.layer.7.output.dense.weight', 'mlmodel.encoder.layer.4.attention.output.LayerNorm.bias', 'mlmodel.encoder.layer.9.attention.self.value.bias', 'mlmodel.encoder.layer.5.attention.self.value.weight', 'mlmodel.encoder.layer.1.output.LayerNorm.weight', 'mlmodel.encoder.layer.2.output.dense.bias', 'mlmodel.encoder.layer.6.intermediate.dense.bias', 'mlmodel.encoder.layer.0.attention.self.value.bias', 'mlmodel.encoder.layer.11.attention.output.dense.bias', 'mlmodel.encoder.layer.9.intermediate.dense.weight', 'mlmodel.encoder.layer.9.output.dense.weight', 'mlmodel.encoder.layer.1.attention.output.LayerNorm.weight', 'mlmodel.encoder.layer.0.attention.self.key.bias', 'mlmodel.encoder.layer.2.attention.output.LayerNorm.bias', 'classifier.1.bias', 'mlmodel.encoder.layer.6.attention.output.dense.bias', 'mlmodel.encoder.layer.10.attention.self.key.bias', 'mlmodel.encoder.layer.0.attention.self.query.weight', 'mlmodel.encoder.layer.7.attention.output.dense.weight', 'mlmodel.encoder.layer.1.attention.self.key.bias', 'mlmodel.encoder.layer.10.attention.output.dense.weight', 'mlmodel.encoder.layer.10.attention.output.dense.bias', 'mlmodel.encoder.layer.5.output.LayerNorm.bias', 'mlmodel.encoder.layer.0.output.LayerNorm.bias', 'mlmodel.encoder.layer.8.attention.output.LayerNorm.bias', 'mlmodel.encoder.layer.10.attention.self.key.weight', 'mlmodel.encoder.layer.2.attention.self.key.weight', 'classifier.3.bias', 'mlmodel.encoder.layer.5.attention.output.dense.bias', 'mlmodel.encoder.layer.0.attention.self.value.weight', 'mlmodel.encoder.layer.8.attention.self.key.bias', 'mlmodel.encoder.layer.3.attention.self.query.weight', 'mlmodel.encoder.layer.4.intermediate.dense.weight', 'mlmodel.encoder.layer.2.attention.self.query.bias', 'mlmodel.encoder.layer.3.intermediate.dense.bias', 'mlmodel.encoder.layer.9.attention.self.key.bias', 'mlmodel.encoder.layer.5.attention.self.query.weight', 'mlmodel.encoder.layer.11.intermediate.dense.bias', 'mlmodel.encoder.layer.5.attention.self.key.weight', 'mlmodel.encoder.layer.5.attention.output.LayerNorm.bias', 'mlmodel.encoder.layer.4.output.dense.weight', 'mlmodel.encoder.layer.8.attention.self.query.weight', 'classifier.1.weight', 'mlmodel.encoder.layer.1.attention.self.query.weight', 'mlmodel.encoder.layer.6.attention.output.dense.weight', 'mlmodel.encoder.layer.3.attention.output.dense.weight', 'mlmodel.encoder.layer.6.output.dense.bias', 'mlmodel.encoder.layer.7.attention.output.LayerNorm.weight', 'mlmodel.encoder.layer.0.intermediate.dense.weight', 'mlmodel.encoder.layer.0.output.LayerNorm.weight', 'mlmodel.encoder.layer.3.output.LayerNorm.weight', 'mlmodel.encoder.layer.8.attention.self.query.bias', 'mlmodel.encoder.layer.1.attention.self.key.weight', 'mlmodel.encoder.layer.3.attention.self.value.weight', 'mlmodel.encoder.layer.2.attention.self.query.weight', 'mlmodel.encoder.layer.8.attention.output.dense.weight', 'mlmodel.encoder.layer.8.intermediate.dense.bias', 'mlmodel.encoder.layer.6.attention.self.key.weight', 'mlmodel.encoder.layer.8.output.dense.weight', 'mlmodel.encoder.layer.8.intermediate.dense.weight', 'mlmodel.encoder.layer.11.output.LayerNorm.bias', 'mlmodel.encoder.layer.6.output.dense.weight', 'mlmodel.encoder.layer.4.attention.self.key.weight', 'mlmodel.encoder.layer.10.attention.output.LayerNorm.weight', 'mlmodel.encoder.layer.10.output.LayerNorm.weight', 'mlmodel.encoder.layer.10.intermediate.dense.weight', 'mlmodel.encoder.layer.3.output.dense.weight', 'mlmodel.encoder.layer.3.intermediate.dense.weight', 'mlmodel.encoder.layer.11.output.dense.bias', 'mlmodel.encoder.layer.9.attention.output.dense.weight', 'mlmodel.encoder.layer.2.attention.self.value.bias', 'mlmodel.encoder.layer.2.output.LayerNorm.weight', 'mlmodel.encoder.layer.11.output.dense.weight', 'mlmodel.encoder.layer.11.attention.self.value.weight', 'mlmodel.encoder.layer.3.attention.output.dense.bias', 'mlmodel.embeddings.LayerNorm.bias', 'mlmodel.encoder.layer.7.intermediate.dense.weight', 'mlmodel.encoder.layer.7.attention.self.query.bias', 'mlmodel.encoder.layer.0.attention.output.dense.weight', 'mlmodel.embeddings.token_type_embeddings.weight', 'mlmodel.encoder.layer.4.attention.output.LayerNorm.weight', 'mlmodel.encoder.layer.7.attention.output.dense.bias', 'mlmodel.encoder.layer.4.output.dense.bias', 'mlmodel.encoder.layer.1.output.dense.weight', 'mlmodel.encoder.layer.11.attention.self.query.weight', 'classifier.3.weight', 'mlmodel.encoder.layer.0.attention.self.key.weight', 'mlmodel.encoder.layer.2.attention.output.dense.weight', 'mlmodel.encoder.layer.3.attention.output.LayerNorm.bias', 'mlmodel.encoder.layer.6.attention.self.value.bias', 'mlmodel.embeddings.position_ids', 'mlmodel.encoder.layer.5.attention.output.dense.weight', 'mlmodel.encoder.layer.1.attention.output.LayerNorm.bias', 'mlmodel.encoder.layer.7.attention.output.LayerNorm.bias', 'mlmodel.encoder.layer.7.output.LayerNorm.bias', 'mlmodel.encoder.layer.11.attention.output.LayerNorm.weight', 'mlmodel.encoder.layer.9.intermediate.dense.bias', 'mlmodel.encoder.layer.0.attention.self.query.bias', 'mlmodel.encoder.layer.5.attention.self.key.bias', 'mlmodel.encoder.layer.5.intermediate.dense.bias', 'mlmodel.encoder.layer.10.output.LayerNorm.bias', 'mlmodel.encoder.layer.1.attention.self.value.bias', 'mlmodel.encoder.layer.3.attention.self.key.bias', 'mlmodel.encoder.layer.8.attention.self.value.weight', 'mlmodel.encoder.layer.3.attention.self.value.bias', 'mlmodel.encoder.layer.4.output.LayerNorm.weight', 'mlmodel.encoder.layer.7.output.dense.bias', 'mlmodel.encoder.layer.4.output.LayerNorm.bias', 'mlmodel.encoder.layer.10.intermediate.dense.bias', 'mlmodel.encoder.layer.6.attention.self.query.bias', 'mlmodel.encoder.layer.7.intermediate.dense.bias', 'mlmodel.encoder.layer.8.attention.self.value.bias', 'mlmodel.encoder.layer.6.output.LayerNorm.weight', 'mlmodel.pooler.dense.bias', 'mlmodel.encoder.layer.0.output.dense.bias', 'mlmodel.encoder.layer.1.attention.self.value.weight', 'mlmodel.encoder.layer.4.attention.self.value.weight', 'mlmodel.encoder.layer.11.attention.self.key.bias', 'mlmodel.encoder.layer.2.attention.self.value.weight', 'mlmodel.encoder.layer.9.attention.self.query.bias', 'mlmodel.encoder.layer.4.attention.self.query.bias']\n",
      "- This IS expected if you are initializing RobertaModel from the checkpoint of a model trained on another task or with another architecture (e.g. initializing a BertForSequenceClassification model from a BertForPreTraining model).\n",
      "- This IS NOT expected if you are initializing RobertaModel from the checkpoint of a model that you expect to be exactly identical (initializing a BertForSequenceClassification model from a BertForSequenceClassification model).\n"
     ]
    },
    {
     "name": "stderr",
     "output_type": "stream",
     "text": [
      "Some weights of RobertaModel were not initialized from the model checkpoint at ./checkpoints-probing/roberta-probing+semcor/checkpoint-185900 and are newly initialized: ['encoder.layer.7.attention.self.key.weight', 'encoder.layer.8.intermediate.dense.weight', 'encoder.layer.6.output.LayerNorm.bias', 'encoder.layer.0.attention.self.value.bias', 'encoder.layer.9.output.dense.bias', 'pooler.dense.bias', 'encoder.layer.4.attention.self.key.bias', 'embeddings.LayerNorm.weight', 'encoder.layer.6.attention.output.dense.bias', 'encoder.layer.11.output.dense.weight', 'encoder.layer.7.attention.output.LayerNorm.bias', 'encoder.layer.5.attention.self.query.bias', 'encoder.layer.8.attention.self.query.bias', 'encoder.layer.10.attention.output.LayerNorm.weight', 'encoder.layer.5.output.dense.weight', 'encoder.layer.1.attention.self.key.bias', 'encoder.layer.11.attention.output.dense.bias', 'encoder.layer.7.intermediate.dense.weight', 'encoder.layer.1.output.LayerNorm.bias', 'embeddings.position_embeddings.weight', 'encoder.layer.11.attention.self.key.weight', 'encoder.layer.10.attention.self.value.weight', 'encoder.layer.8.attention.self.key.weight', 'encoder.layer.5.attention.self.value.weight', 'encoder.layer.3.attention.self.key.bias', 'encoder.layer.3.attention.output.LayerNorm.bias', 'encoder.layer.9.attention.self.value.bias', 'encoder.layer.8.output.LayerNorm.bias', 'encoder.layer.10.output.LayerNorm.bias', 'encoder.layer.2.attention.self.query.weight', 'encoder.layer.2.attention.output.LayerNorm.bias', 'encoder.layer.4.attention.self.query.bias', 'encoder.layer.9.intermediate.dense.bias', 'pooler.dense.weight', 'encoder.layer.5.attention.output.LayerNorm.bias', 'encoder.layer.1.intermediate.dense.bias', 'encoder.layer.2.attention.self.key.weight', 'encoder.layer.1.attention.self.key.weight', 'encoder.layer.7.attention.output.dense.bias', 'encoder.layer.4.attention.output.LayerNorm.bias', 'encoder.layer.7.attention.self.query.bias', 'encoder.layer.6.attention.output.LayerNorm.weight', 'encoder.layer.0.attention.self.query.bias', 'encoder.layer.0.attention.output.LayerNorm.weight', 'encoder.layer.2.attention.output.dense.weight', 'encoder.layer.0.attention.self.key.bias', 'encoder.layer.7.output.LayerNorm.bias', 'encoder.layer.8.attention.output.dense.weight', 'embeddings.token_type_embeddings.weight', 'encoder.layer.2.attention.self.value.weight', 'encoder.layer.7.attention.self.value.bias', 'encoder.layer.0.output.LayerNorm.bias', 'encoder.layer.1.attention.self.value.weight', 'encoder.layer.6.attention.self.key.weight', 'encoder.layer.2.attention.self.key.bias', 'encoder.layer.0.intermediate.dense.bias', 'encoder.layer.5.output.LayerNorm.weight', 'encoder.layer.7.output.dense.bias', 'encoder.layer.0.attention.self.query.weight', 'encoder.layer.8.attention.output.dense.bias', 'encoder.layer.3.attention.output.dense.weight', 'encoder.layer.0.attention.self.value.weight', 'encoder.layer.9.attention.output.dense.bias', 'encoder.layer.4.attention.output.dense.bias', 'encoder.layer.5.intermediate.dense.bias', 'encoder.layer.5.attention.output.LayerNorm.weight', 'encoder.layer.8.attention.self.query.weight', 'encoder.layer.5.attention.self.query.weight', 'encoder.layer.0.attention.output.dense.bias', 'encoder.layer.6.attention.self.value.weight', 'encoder.layer.6.intermediate.dense.weight', 'encoder.layer.4.attention.output.LayerNorm.weight', 'encoder.layer.4.intermediate.dense.weight', 'encoder.layer.10.output.dense.bias', 'encoder.layer.6.output.LayerNorm.weight', 'encoder.layer.0.output.dense.weight', 'encoder.layer.11.attention.output.LayerNorm.weight', 'encoder.layer.11.intermediate.dense.weight', 'embeddings.LayerNorm.bias', 'encoder.layer.0.intermediate.dense.weight', 'encoder.layer.1.output.dense.weight', 'encoder.layer.8.output.dense.bias', 'encoder.layer.9.output.LayerNorm.weight', 'encoder.layer.4.attention.output.dense.weight', 'encoder.layer.11.intermediate.dense.bias', 'encoder.layer.9.attention.output.dense.weight', 'encoder.layer.5.attention.self.key.weight', 'embeddings.word_embeddings.weight', 'encoder.layer.4.attention.self.value.weight', 'encoder.layer.2.attention.self.value.bias', 'encoder.layer.1.output.LayerNorm.weight', 'encoder.layer.4.attention.self.value.bias', 'encoder.layer.9.output.dense.weight', 'encoder.layer.6.output.dense.bias', 'encoder.layer.3.attention.self.query.weight', 'encoder.layer.7.output.LayerNorm.weight', 'encoder.layer.5.attention.output.dense.bias', 'encoder.layer.6.intermediate.dense.bias', 'encoder.layer.10.intermediate.dense.bias', 'encoder.layer.0.attention.self.key.weight', 'encoder.layer.8.attention.self.value.weight', 'encoder.layer.6.output.dense.weight', 'encoder.layer.3.output.dense.weight', 'encoder.layer.5.attention.self.value.bias', 'encoder.layer.1.attention.output.dense.bias', 'encoder.layer.5.output.dense.bias', 'encoder.layer.4.intermediate.dense.bias', 'encoder.layer.10.attention.self.query.bias', 'encoder.layer.3.output.dense.bias', 'encoder.layer.11.attention.output.LayerNorm.bias', 'encoder.layer.9.output.LayerNorm.bias', 'encoder.layer.10.attention.self.key.weight', 'encoder.layer.10.intermediate.dense.weight', 'encoder.layer.4.output.LayerNorm.weight', 'encoder.layer.2.output.dense.weight', 'encoder.layer.10.attention.self.value.bias', 'encoder.layer.10.attention.output.dense.weight', 'encoder.layer.10.output.dense.weight', 'encoder.layer.7.attention.output.dense.weight', 'encoder.layer.7.output.dense.weight', 'encoder.layer.1.intermediate.dense.weight', 'encoder.layer.2.intermediate.dense.weight', 'encoder.layer.4.output.dense.weight', 'encoder.layer.2.intermediate.dense.bias', 'encoder.layer.7.intermediate.dense.bias', 'encoder.layer.3.attention.self.value.weight', 'encoder.layer.7.attention.self.value.weight', 'encoder.layer.5.intermediate.dense.weight', 'encoder.layer.0.attention.output.LayerNorm.bias', 'encoder.layer.2.output.dense.bias', 'encoder.layer.8.attention.self.value.bias', 'encoder.layer.10.attention.output.dense.bias', 'encoder.layer.3.attention.self.value.bias', 'encoder.layer.3.attention.output.dense.bias', 'encoder.layer.10.attention.self.query.weight', 'encoder.layer.11.output.LayerNorm.weight', 'encoder.layer.3.output.LayerNorm.weight', 'encoder.layer.2.attention.self.query.bias', 'encoder.layer.9.attention.self.key.bias', 'encoder.layer.11.output.dense.bias', 'encoder.layer.0.attention.output.dense.weight', 'encoder.layer.7.attention.output.LayerNorm.weight', 'encoder.layer.4.output.LayerNorm.bias', 'encoder.layer.1.output.dense.bias', 'encoder.layer.7.attention.self.query.weight', 'encoder.layer.5.attention.self.key.bias', 'encoder.layer.6.attention.self.value.bias', 'encoder.layer.11.attention.self.query.bias', 'encoder.layer.2.output.LayerNorm.weight', 'encoder.layer.0.output.dense.bias', 'encoder.layer.1.attention.output.dense.weight', 'encoder.layer.5.output.LayerNorm.bias', 'encoder.layer.4.attention.self.key.weight', 'encoder.layer.8.intermediate.dense.bias', 'encoder.layer.11.attention.output.dense.weight', 'encoder.layer.6.attention.output.LayerNorm.bias', 'encoder.layer.10.attention.self.key.bias', 'encoder.layer.3.output.LayerNorm.bias', 'encoder.layer.3.intermediate.dense.weight', 'encoder.layer.6.attention.output.dense.weight', 'encoder.layer.8.output.LayerNorm.weight', 'encoder.layer.2.output.LayerNorm.bias', 'encoder.layer.3.attention.self.query.bias', 'encoder.layer.1.attention.output.LayerNorm.weight', 'encoder.layer.6.attention.self.key.bias', 'encoder.layer.11.attention.self.key.bias', 'encoder.layer.3.attention.output.LayerNorm.weight', 'encoder.layer.6.attention.self.query.weight', 'encoder.layer.6.attention.self.query.bias', 'encoder.layer.9.attention.self.query.bias', 'encoder.layer.1.attention.self.query.bias', 'encoder.layer.1.attention.output.LayerNorm.bias', 'encoder.layer.3.intermediate.dense.bias', 'encoder.layer.8.attention.output.LayerNorm.bias', 'encoder.layer.11.output.LayerNorm.bias', 'encoder.layer.9.attention.output.LayerNorm.weight', 'encoder.layer.8.attention.output.LayerNorm.weight', 'encoder.layer.5.attention.output.dense.weight', 'encoder.layer.9.attention.self.key.weight', 'encoder.layer.9.attention.self.value.weight', 'encoder.layer.11.attention.self.value.weight', 'encoder.layer.2.attention.output.dense.bias', 'encoder.layer.11.attention.self.value.bias', 'encoder.layer.1.attention.self.query.weight', 'encoder.layer.0.output.LayerNorm.weight', 'encoder.layer.4.attention.self.query.weight', 'encoder.layer.8.output.dense.weight', 'encoder.layer.9.attention.self.query.weight', 'encoder.layer.9.attention.output.LayerNorm.bias', 'encoder.layer.1.attention.self.value.bias', 'encoder.layer.10.attention.output.LayerNorm.bias', 'encoder.layer.4.output.dense.bias', 'encoder.layer.10.output.LayerNorm.weight', 'encoder.layer.8.attention.self.key.bias', 'encoder.layer.2.attention.output.LayerNorm.weight', 'encoder.layer.7.attention.self.key.bias', 'encoder.layer.11.attention.self.query.weight', 'encoder.layer.3.attention.self.key.weight', 'encoder.layer.9.intermediate.dense.weight']\n",
      "You should probably TRAIN this model on a down-stream task to be able to use it for predictions and inference.\n"
     ]
    },
    {
     "name": "stderr",
     "output_type": "stream",
     "text": [
      "All model checkpoint weights were used when initializing SynsetClassificationModel.\n",
      "\n",
      "All the weights of SynsetClassificationModel were initialized from the model checkpoint at ./checkpoints-probing/roberta-probing+semcor/checkpoint-185900.\n",
      "If your task is similar to the task the model of the checkpoint was trained on, you can already use SynsetClassificationModel for predictions without further training.\n",
      "PyTorch: setting up devices\n",
      "The default value for the training argument `--report_to` will change in v5 (from all installed integrations to none). In v5, you will need to use `--report_to all` to get the same behavior as now. You should start updating your code and make this info disappear :-).\n"
     ]
    },
    {
     "ename": "AttributeError",
     "evalue": "type object 'type' has no attribute 'required'",
     "output_type": "error",
     "traceback": [
      "\u001b[0;31m---------------------------------------------------------------------------\u001b[0m",
      "\u001b[0;31mAttributeError\u001b[0m                            Traceback (most recent call last)",
      "\u001b[0;32m/tmp/ipykernel_22554/1449241030.py\u001b[0m in \u001b[0;36m<cell line: 8>\u001b[0;34m()\u001b[0m\n\u001b[1;32m      6\u001b[0m \u001b[0mdatasets\u001b[0m \u001b[0;34m=\u001b[0m \u001b[0;34m{\u001b[0m\u001b[0;34m'wsd'\u001b[0m\u001b[0;34m:\u001b[0m \u001b[0mLIT_Dataset\u001b[0m\u001b[0;34m(\u001b[0m\u001b[0;34m'./dataset/roberta+senseval2.pickle'\u001b[0m\u001b[0;34m)\u001b[0m\u001b[0;34m}\u001b[0m\u001b[0;34m\u001b[0m\u001b[0;34m\u001b[0m\u001b[0m\n\u001b[1;32m      7\u001b[0m \u001b[0;34m\u001b[0m\u001b[0m\n\u001b[0;32m----> 8\u001b[0;31m \u001b[0mwidget\u001b[0m \u001b[0;34m=\u001b[0m \u001b[0mnotebook\u001b[0m\u001b[0;34m.\u001b[0m\u001b[0mLitWidget\u001b[0m\u001b[0;34m(\u001b[0m\u001b[0mmodels\u001b[0m\u001b[0;34m,\u001b[0m \u001b[0mdatasets\u001b[0m\u001b[0;34m,\u001b[0m \u001b[0mheight\u001b[0m\u001b[0;34m=\u001b[0m\u001b[0;36m800\u001b[0m\u001b[0;34m)\u001b[0m\u001b[0;34m\u001b[0m\u001b[0;34m\u001b[0m\u001b[0m\n\u001b[0m",
      "\u001b[0;32m~/.cache/pypoetry/virtualenvs/bert-wsd-pBoE7GPv-py3.8/lib/python3.8/site-packages/lit_nlp/notebook.py\u001b[0m in \u001b[0;36m__init__\u001b[0;34m(self, height, render, proxy_url, layouts, *args, **kw)\u001b[0m\n\u001b[1;32m    112\u001b[0m \u001b[0;34m\u001b[0m\u001b[0m\n\u001b[1;32m    113\u001b[0m     \u001b[0mlit_demo\u001b[0m \u001b[0;34m=\u001b[0m \u001b[0mdev_server\u001b[0m\u001b[0;34m.\u001b[0m\u001b[0mServer\u001b[0m\u001b[0;34m(\u001b[0m\u001b[0;34m*\u001b[0m\u001b[0margs\u001b[0m\u001b[0;34m,\u001b[0m \u001b[0mlayouts\u001b[0m\u001b[0;34m=\u001b[0m\u001b[0mlayouts\u001b[0m\u001b[0;34m,\u001b[0m \u001b[0;34m**\u001b[0m\u001b[0mapp_flags\u001b[0m\u001b[0;34m)\u001b[0m\u001b[0;34m\u001b[0m\u001b[0;34m\u001b[0m\u001b[0m\n\u001b[0;32m--> 114\u001b[0;31m     \u001b[0mself\u001b[0m\u001b[0;34m.\u001b[0m\u001b[0m_server\u001b[0m \u001b[0;34m=\u001b[0m \u001b[0mcast\u001b[0m\u001b[0;34m(\u001b[0m\u001b[0mwsgi_serving\u001b[0m\u001b[0;34m.\u001b[0m\u001b[0mNotebookWsgiServer\u001b[0m\u001b[0;34m,\u001b[0m \u001b[0mlit_demo\u001b[0m\u001b[0;34m.\u001b[0m\u001b[0mserve\u001b[0m\u001b[0;34m(\u001b[0m\u001b[0;34m)\u001b[0m\u001b[0;34m)\u001b[0m\u001b[0;34m\u001b[0m\u001b[0;34m\u001b[0m\u001b[0m\n\u001b[0m\u001b[1;32m    115\u001b[0m     \u001b[0mself\u001b[0m\u001b[0;34m.\u001b[0m\u001b[0m_height\u001b[0m \u001b[0;34m=\u001b[0m \u001b[0mheight\u001b[0m\u001b[0;34m\u001b[0m\u001b[0;34m\u001b[0m\u001b[0m\n\u001b[1;32m    116\u001b[0m     \u001b[0mself\u001b[0m\u001b[0;34m.\u001b[0m\u001b[0m_proxy_url\u001b[0m \u001b[0;34m=\u001b[0m \u001b[0mproxy_url\u001b[0m\u001b[0;34m\u001b[0m\u001b[0;34m\u001b[0m\u001b[0m\n",
      "\u001b[0;32m~/.cache/pypoetry/virtualenvs/bert-wsd-pBoE7GPv-py3.8/lib/python3.8/site-packages/lit_nlp/dev_server.py\u001b[0m in \u001b[0;36mserve\u001b[0;34m(self)\u001b[0m\n\u001b[1;32m     88\u001b[0m       \u001b[0mlogging\u001b[0m\u001b[0;34m.\u001b[0m\u001b[0minfo\u001b[0m\u001b[0;34m(\u001b[0m\u001b[0mget_lit_logo\u001b[0m\u001b[0;34m(\u001b[0m\u001b[0;34m)\u001b[0m\u001b[0;34m)\u001b[0m\u001b[0;34m\u001b[0m\u001b[0;34m\u001b[0m\u001b[0m\n\u001b[1;32m     89\u001b[0m       \u001b[0mlogging\u001b[0m\u001b[0;34m.\u001b[0m\u001b[0minfo\u001b[0m\u001b[0;34m(\u001b[0m\u001b[0;34m'Starting LIT server...'\u001b[0m\u001b[0;34m)\u001b[0m\u001b[0;34m\u001b[0m\u001b[0;34m\u001b[0m\u001b[0m\n\u001b[0;32m---> 90\u001b[0;31m       \u001b[0mapp\u001b[0m \u001b[0;34m=\u001b[0m \u001b[0mlit_app\u001b[0m\u001b[0;34m.\u001b[0m\u001b[0mLitApp\u001b[0m\u001b[0;34m(\u001b[0m\u001b[0;34m*\u001b[0m\u001b[0mself\u001b[0m\u001b[0;34m.\u001b[0m\u001b[0m_app_args\u001b[0m\u001b[0;34m,\u001b[0m \u001b[0;34m**\u001b[0m\u001b[0mself\u001b[0m\u001b[0;34m.\u001b[0m\u001b[0m_app_kw\u001b[0m\u001b[0;34m)\u001b[0m\u001b[0;34m\u001b[0m\u001b[0;34m\u001b[0m\u001b[0m\n\u001b[0m\u001b[1;32m     91\u001b[0m \u001b[0;34m\u001b[0m\u001b[0m\n\u001b[1;32m     92\u001b[0m       \u001b[0;31m# If using a separate server program to serve the app, such as gunicorn,\u001b[0m\u001b[0;34m\u001b[0m\u001b[0;34m\u001b[0m\u001b[0;34m\u001b[0m\u001b[0m\n",
      "\u001b[0;32m~/.cache/pypoetry/virtualenvs/bert-wsd-pBoE7GPv-py3.8/lib/python3.8/site-packages/lit_nlp/app.py\u001b[0m in \u001b[0;36m__init__\u001b[0;34m(self, models, datasets, generators, interpreters, annotators, layouts, data_dir, warm_start, warm_projections, client_root, demo_mode, default_layout, canonical_url, page_title, development_demo)\u001b[0m\n\u001b[1;32m    434\u001b[0m     \u001b[0;31m# replace the datasets with the annotated versions.\u001b[0m\u001b[0;34m\u001b[0m\u001b[0;34m\u001b[0m\u001b[0;34m\u001b[0m\u001b[0m\n\u001b[1;32m    435\u001b[0m     \u001b[0;32mfor\u001b[0m \u001b[0mds_key\u001b[0m\u001b[0;34m,\u001b[0m \u001b[0mds\u001b[0m \u001b[0;32min\u001b[0m \u001b[0mself\u001b[0m\u001b[0;34m.\u001b[0m\u001b[0m_datasets\u001b[0m\u001b[0;34m.\u001b[0m\u001b[0mitems\u001b[0m\u001b[0;34m(\u001b[0m\u001b[0;34m)\u001b[0m\u001b[0;34m:\u001b[0m\u001b[0;34m\u001b[0m\u001b[0;34m\u001b[0m\u001b[0m\n\u001b[0;32m--> 436\u001b[0;31m       \u001b[0mself\u001b[0m\u001b[0;34m.\u001b[0m\u001b[0m_datasets\u001b[0m\u001b[0;34m[\u001b[0m\u001b[0mds_key\u001b[0m\u001b[0;34m]\u001b[0m \u001b[0;34m=\u001b[0m \u001b[0mself\u001b[0m\u001b[0;34m.\u001b[0m\u001b[0m_run_annotators\u001b[0m\u001b[0;34m(\u001b[0m\u001b[0mds\u001b[0m\u001b[0;34m)\u001b[0m\u001b[0;34m\u001b[0m\u001b[0;34m\u001b[0m\u001b[0m\n\u001b[0m\u001b[1;32m    437\u001b[0m \u001b[0;34m\u001b[0m\u001b[0m\n\u001b[1;32m    438\u001b[0m     \u001b[0;31m# Index all datasets\u001b[0m\u001b[0;34m\u001b[0m\u001b[0;34m\u001b[0m\u001b[0;34m\u001b[0m\u001b[0m\n",
      "\u001b[0;32m~/.cache/pypoetry/virtualenvs/bert-wsd-pBoE7GPv-py3.8/lib/python3.8/site-packages/lit_nlp/app.py\u001b[0m in \u001b[0;36m_run_annotators\u001b[0;34m(self, dataset)\u001b[0m\n\u001b[1;32m    350\u001b[0m       self, dataset: lit_dataset.Dataset) -> lit_dataset.Dataset:\n\u001b[1;32m    351\u001b[0m     \u001b[0mdatapoints\u001b[0m \u001b[0;34m=\u001b[0m \u001b[0;34m[\u001b[0m\u001b[0mdict\u001b[0m\u001b[0;34m(\u001b[0m\u001b[0mex\u001b[0m\u001b[0;34m)\u001b[0m \u001b[0;32mfor\u001b[0m \u001b[0mex\u001b[0m \u001b[0;32min\u001b[0m \u001b[0mdataset\u001b[0m\u001b[0;34m.\u001b[0m\u001b[0mexamples\u001b[0m\u001b[0;34m]\u001b[0m\u001b[0;34m\u001b[0m\u001b[0;34m\u001b[0m\u001b[0m\n\u001b[0;32m--> 352\u001b[0;31m     \u001b[0mannotated_spec\u001b[0m \u001b[0;34m=\u001b[0m \u001b[0mdict\u001b[0m\u001b[0;34m(\u001b[0m\u001b[0mdataset\u001b[0m\u001b[0;34m.\u001b[0m\u001b[0mspec\u001b[0m\u001b[0;34m(\u001b[0m\u001b[0;34m)\u001b[0m\u001b[0;34m)\u001b[0m\u001b[0;34m\u001b[0m\u001b[0;34m\u001b[0m\u001b[0m\n\u001b[0m\u001b[1;32m    353\u001b[0m     \u001b[0;32mfor\u001b[0m \u001b[0mannotator\u001b[0m \u001b[0;32min\u001b[0m \u001b[0mself\u001b[0m\u001b[0;34m.\u001b[0m\u001b[0m_annotators\u001b[0m\u001b[0;34m:\u001b[0m\u001b[0;34m\u001b[0m\u001b[0;34m\u001b[0m\u001b[0m\n\u001b[1;32m    354\u001b[0m       \u001b[0mannotator\u001b[0m\u001b[0;34m.\u001b[0m\u001b[0mannotate\u001b[0m\u001b[0;34m(\u001b[0m\u001b[0mdatapoints\u001b[0m\u001b[0;34m,\u001b[0m \u001b[0mdataset\u001b[0m\u001b[0;34m,\u001b[0m \u001b[0mannotated_spec\u001b[0m\u001b[0;34m)\u001b[0m\u001b[0;34m\u001b[0m\u001b[0;34m\u001b[0m\u001b[0m\n",
      "\u001b[0;32m~/.cache/pypoetry/virtualenvs/bert-wsd-pBoE7GPv-py3.8/lib/python3.8/site-packages/lit_nlp/api/dataset.py\u001b[0m in \u001b[0;36mspec\u001b[0;34m(self)\u001b[0m\n\u001b[1;32m    324\u001b[0m     \u001b[0mcombined_spec\u001b[0m \u001b[0;34m=\u001b[0m \u001b[0;34m{\u001b[0m\u001b[0;34m}\u001b[0m\u001b[0;34m\u001b[0m\u001b[0;34m\u001b[0m\u001b[0m\n\u001b[1;32m    325\u001b[0m     \u001b[0;32mfor\u001b[0m \u001b[0m_\u001b[0m\u001b[0;34m,\u001b[0m \u001b[0mmodel\u001b[0m \u001b[0;32min\u001b[0m \u001b[0mself\u001b[0m\u001b[0;34m.\u001b[0m\u001b[0m_models\u001b[0m\u001b[0;34m.\u001b[0m\u001b[0mitems\u001b[0m\u001b[0;34m(\u001b[0m\u001b[0;34m)\u001b[0m\u001b[0;34m:\u001b[0m\u001b[0;34m\u001b[0m\u001b[0;34m\u001b[0m\u001b[0m\n\u001b[0;32m--> 326\u001b[0;31m       \u001b[0mreq_inputs\u001b[0m \u001b[0;34m=\u001b[0m \u001b[0;34m{\u001b[0m\u001b[0mk\u001b[0m\u001b[0;34m:\u001b[0m \u001b[0mv\u001b[0m \u001b[0;32mfor\u001b[0m \u001b[0;34m(\u001b[0m\u001b[0mk\u001b[0m\u001b[0;34m,\u001b[0m \u001b[0mv\u001b[0m\u001b[0;34m)\u001b[0m \u001b[0;32min\u001b[0m \u001b[0mmodel\u001b[0m\u001b[0;34m.\u001b[0m\u001b[0mspec\u001b[0m\u001b[0;34m(\u001b[0m\u001b[0;34m)\u001b[0m\u001b[0;34m.\u001b[0m\u001b[0minput\u001b[0m\u001b[0;34m.\u001b[0m\u001b[0mitems\u001b[0m\u001b[0;34m(\u001b[0m\u001b[0;34m)\u001b[0m \u001b[0;32mif\u001b[0m \u001b[0mv\u001b[0m\u001b[0;34m.\u001b[0m\u001b[0mrequired\u001b[0m\u001b[0;34m}\u001b[0m\u001b[0;34m\u001b[0m\u001b[0;34m\u001b[0m\u001b[0m\n\u001b[0m\u001b[1;32m    327\u001b[0m       \u001b[0;31m# Ensure that there are no conflicting spec keys.\u001b[0m\u001b[0;34m\u001b[0m\u001b[0;34m\u001b[0m\u001b[0;34m\u001b[0m\u001b[0m\n\u001b[1;32m    328\u001b[0m       \u001b[0;32massert\u001b[0m \u001b[0;32mnot\u001b[0m \u001b[0mself\u001b[0m\u001b[0;34m.\u001b[0m\u001b[0mhas_conflicting_keys\u001b[0m\u001b[0;34m(\u001b[0m\u001b[0mcombined_spec\u001b[0m\u001b[0;34m,\u001b[0m \u001b[0mreq_inputs\u001b[0m\u001b[0;34m)\u001b[0m\u001b[0;34m\u001b[0m\u001b[0;34m\u001b[0m\u001b[0m\n",
      "\u001b[0;32m~/.cache/pypoetry/virtualenvs/bert-wsd-pBoE7GPv-py3.8/lib/python3.8/site-packages/lit_nlp/api/dataset.py\u001b[0m in \u001b[0;36m<dictcomp>\u001b[0;34m(.0)\u001b[0m\n\u001b[1;32m    324\u001b[0m     \u001b[0mcombined_spec\u001b[0m \u001b[0;34m=\u001b[0m \u001b[0;34m{\u001b[0m\u001b[0;34m}\u001b[0m\u001b[0;34m\u001b[0m\u001b[0;34m\u001b[0m\u001b[0m\n\u001b[1;32m    325\u001b[0m     \u001b[0;32mfor\u001b[0m \u001b[0m_\u001b[0m\u001b[0;34m,\u001b[0m \u001b[0mmodel\u001b[0m \u001b[0;32min\u001b[0m \u001b[0mself\u001b[0m\u001b[0;34m.\u001b[0m\u001b[0m_models\u001b[0m\u001b[0;34m.\u001b[0m\u001b[0mitems\u001b[0m\u001b[0;34m(\u001b[0m\u001b[0;34m)\u001b[0m\u001b[0;34m:\u001b[0m\u001b[0;34m\u001b[0m\u001b[0;34m\u001b[0m\u001b[0m\n\u001b[0;32m--> 326\u001b[0;31m       \u001b[0mreq_inputs\u001b[0m \u001b[0;34m=\u001b[0m \u001b[0;34m{\u001b[0m\u001b[0mk\u001b[0m\u001b[0;34m:\u001b[0m \u001b[0mv\u001b[0m \u001b[0;32mfor\u001b[0m \u001b[0;34m(\u001b[0m\u001b[0mk\u001b[0m\u001b[0;34m,\u001b[0m \u001b[0mv\u001b[0m\u001b[0;34m)\u001b[0m \u001b[0;32min\u001b[0m \u001b[0mmodel\u001b[0m\u001b[0;34m.\u001b[0m\u001b[0mspec\u001b[0m\u001b[0;34m(\u001b[0m\u001b[0;34m)\u001b[0m\u001b[0;34m.\u001b[0m\u001b[0minput\u001b[0m\u001b[0;34m.\u001b[0m\u001b[0mitems\u001b[0m\u001b[0;34m(\u001b[0m\u001b[0;34m)\u001b[0m \u001b[0;32mif\u001b[0m \u001b[0mv\u001b[0m\u001b[0;34m.\u001b[0m\u001b[0mrequired\u001b[0m\u001b[0;34m}\u001b[0m\u001b[0;34m\u001b[0m\u001b[0;34m\u001b[0m\u001b[0m\n\u001b[0m\u001b[1;32m    327\u001b[0m       \u001b[0;31m# Ensure that there are no conflicting spec keys.\u001b[0m\u001b[0;34m\u001b[0m\u001b[0;34m\u001b[0m\u001b[0;34m\u001b[0m\u001b[0m\n\u001b[1;32m    328\u001b[0m       \u001b[0;32massert\u001b[0m \u001b[0;32mnot\u001b[0m \u001b[0mself\u001b[0m\u001b[0;34m.\u001b[0m\u001b[0mhas_conflicting_keys\u001b[0m\u001b[0;34m(\u001b[0m\u001b[0mcombined_spec\u001b[0m\u001b[0;34m,\u001b[0m \u001b[0mreq_inputs\u001b[0m\u001b[0;34m)\u001b[0m\u001b[0;34m\u001b[0m\u001b[0;34m\u001b[0m\u001b[0m\n",
      "\u001b[0;31mAttributeError\u001b[0m: type object 'type' has no attribute 'required'"
     ]
    }
   ],
   "source": [
    "# Create the LIT widget with the model and dataset to analyze.\n",
    "from lit_nlp import notebook\n",
    "\n",
    "#datasets = {'sst_dev': glue.SST2Data('validation')}\n",
    "models = {'wsd': LIT_Model('./checkpoints-probing/roberta-probing+semcor/checkpoint-185900')}\n",
    "datasets = {'wsd': LIT_Dataset('./dataset/roberta+senseval2.pickle')}\n",
    "\n",
    "widget = notebook.LitWidget(models, datasets, height=800)"
   ]
  },
  {
   "cell_type": "code",
   "execution_count": null,
   "metadata": {
    "id": "9GSfs1waBdLd"
   },
   "outputs": [],
   "source": [
    "# Render the widget\n",
    "widget.render()"
   ]
  }
 ],
 "metadata": {
  "colab": {
   "collapsed_sections": [],
   "name": "LIT in Notebooks",
   "provenance": []
  },
  "kernelspec": {
   "display_name": "Python 3 (ipykernel)",
   "language": "python",
   "name": "python3"
  },
  "language_info": {
   "codemirror_mode": {
    "name": "ipython",
    "version": 3
   },
   "file_extension": ".py",
   "mimetype": "text/x-python",
   "name": "python",
   "nbconvert_exporter": "python",
   "pygments_lexer": "ipython3",
   "version": "3.8.10"
  }
 },
 "nbformat": 4,
 "nbformat_minor": 1
}
